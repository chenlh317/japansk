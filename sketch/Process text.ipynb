{
 "cells": [
  {
   "cell_type": "code",
   "execution_count": 48,
   "id": "4e453d0e",
   "metadata": {},
   "outputs": [],
   "source": [
    "import os"
   ]
  },
  {
   "cell_type": "code",
   "execution_count": 80,
   "id": "5e7d8eb5",
   "metadata": {
    "scrolled": true
   },
   "outputs": [],
   "source": [
    "def remove_empty_line_break(file_name):\n",
    "\n",
    "    lines = []\n",
    "    \n",
    "    msg = f\"Found empty line break in {file_name}\"\n",
    "\n",
    "    with open(file_name, \"r\") as f:\n",
    "        lines = f.readlines()\n",
    "\n",
    "    with open(file_name, \"w\") as f:\n",
    "        for line in lines:\n",
    "\n",
    "            if line == \"<br>\\n\":\n",
    "                print(msg)\n",
    "                f.write(\"\\n\")\n",
    "            elif line == \"<br>\":\n",
    "                print(msg)\n",
    "                \n",
    "            else:\n",
    "                f.write(line)\n",
    "        "
   ]
  },
  {
   "cell_type": "code",
   "execution_count": 82,
   "id": "79beec9a",
   "metadata": {},
   "outputs": [
    {
     "name": "stdout",
     "output_type": "stream",
     "text": [
      "C:\\Users\\Linghua\\Desktop\\japansk\\process_content\\.ipynb_checkpoints\n",
      "C:\\Users\\Linghua\\Desktop\\japansk\\process_content\\Process text.ipynb\n",
      "C:\\Users\\Linghua\\Desktop\\japansk\\process_content\\test copy.md\n",
      "C:\\Users\\Linghua\\Desktop\\japansk\\process_content\\test.md\n"
     ]
    }
   ],
   "source": [
    "dir_name = \"../lyrics\"\n",
    "dir_name = \"\"\n",
    "\n",
    "ext = (\".md\",)\n",
    "\n",
    "for files in os.listdir():\n",
    "\n",
    "    print(os.path.abspath(files))\n",
    "    \n",
    "    if files.endswith(ext):\n",
    "        remove_empty_line_break(files)"
   ]
  },
  {
   "cell_type": "code",
   "execution_count": null,
   "id": "8ed28994",
   "metadata": {},
   "outputs": [],
   "source": []
  }
 ],
 "metadata": {
  "kernelspec": {
   "display_name": "Python 3",
   "language": "python",
   "name": "python3"
  },
  "language_info": {
   "codemirror_mode": {
    "name": "ipython",
    "version": 3
   },
   "file_extension": ".py",
   "mimetype": "text/x-python",
   "name": "python",
   "nbconvert_exporter": "python",
   "pygments_lexer": "ipython3",
   "version": "3.9.4"
  }
 },
 "nbformat": 4,
 "nbformat_minor": 5
}
